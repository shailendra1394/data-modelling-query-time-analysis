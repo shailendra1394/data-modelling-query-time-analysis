{
 "cells": [
  {
   "cell_type": "markdown",
   "id": "37708778-6c3e-4114-a917-eb12cd1a90ae",
   "metadata": {},
   "source": [
    "## Importing the psycopg2 module(can be easily installed using pip)"
   ]
  },
  {
   "cell_type": "code",
   "execution_count": 2,
   "id": "e49f8c09-54bc-4496-ad1f-ba11e9a91fed",
   "metadata": {},
   "outputs": [],
   "source": [
    "import psycopg2"
   ]
  },
  {
   "cell_type": "markdown",
   "id": "331e4a05-dcf4-4305-aebd-9465f674f31c",
   "metadata": {},
   "source": [
    "## Creating a connection to postgres db dvdrental hosted on my local machine"
   ]
  },
  {
   "cell_type": "code",
   "execution_count": 3,
   "id": "82e7a124-3f80-48b7-8e8e-fe38fef896a7",
   "metadata": {},
   "outputs": [],
   "source": [
    "try:\n",
    "    conn = psycopg2.connect(\"host=127.0.0.1 dbname=dvdrental user=postgres password=root\")\n",
    "except psycopg2.Error as e:\n",
    "    print(\"Error: Could not make connection to the Postgres database\")\n",
    "    print(e)"
   ]
  },
  {
   "cell_type": "markdown",
   "id": "96d41ae3-a2bf-43a7-917e-4bb03ebe64b4",
   "metadata": {},
   "source": [
    "## Creating a cursor to access the data within the database"
   ]
  },
  {
   "cell_type": "code",
   "execution_count": 4,
   "id": "2af18422-b7bc-4782-88bc-0c1e0ba50f46",
   "metadata": {},
   "outputs": [],
   "source": [
    "try:\n",
    "    cur = conn.cursor()\n",
    "\n",
    "except psycopg2.Error as e:\n",
    "    print(\"Error: Could not could not get cursor to the database\")\n",
    "    print(e)\n",
    "\n",
    "conn.set_session(autocommit=True)"
   ]
  },
  {
   "cell_type": "markdown",
   "id": "09677cd1-567a-4e90-9d57-690822126d99",
   "metadata": {},
   "source": [
    "## fetching table list from public/3nf schema"
   ]
  },
  {
   "cell_type": "code",
   "execution_count": 5,
   "id": "f8538a0a-d713-41bc-997c-d6a6abf91557",
   "metadata": {},
   "outputs": [
    {
     "name": "stdout",
     "output_type": "stream",
     "text": [
      "actor\n",
      "actor_info\n",
      "customer_list\n",
      "film_list\n",
      "nicer_but_slower_film_list\n",
      "sales_by_film_category\n",
      "store\n",
      "sales_by_store\n",
      "staff_list\n",
      "address\n",
      "category\n",
      "city\n",
      "country\n",
      "customer\n",
      "film_actor\n",
      "film_category\n",
      "inventory\n",
      "language\n",
      "rental\n",
      "staff\n",
      "payment\n",
      "film\n"
     ]
    }
   ],
   "source": [
    "cur.execute(\"\"\"\n",
    "    SELECT table_name\n",
    "    FROM information_schema.tables\n",
    "    WHERE table_schema = 'public'\n",
    "\"\"\")\n",
    "\n",
    "# Fetch all the table names\n",
    "table_names = cur.fetchall()\n",
    "\n",
    "# Print the table names\n",
    "for table_name in table_names:\n",
    "    print(table_name[0])"
   ]
  },
  {
   "cell_type": "markdown",
   "id": "887f23a5-3fc4-4109-88f3-7e53e7bef348",
   "metadata": {},
   "source": [
    "## fetching table list from star schema"
   ]
  },
  {
   "cell_type": "code",
   "execution_count": 6,
   "id": "f4a87fce-c3e7-4e0d-ba56-d2ed4e224b96",
   "metadata": {},
   "outputs": [
    {
     "name": "stdout",
     "output_type": "stream",
     "text": [
      "dimdate\n",
      "factsales\n",
      "dimcustomer\n",
      "dimmovie\n",
      "dimstore\n"
     ]
    }
   ],
   "source": [
    "cur.execute(\"\"\"\n",
    "    SELECT table_name\n",
    "    FROM information_schema.tables\n",
    "    WHERE table_schema = 'star_schema'\n",
    "\"\"\")\n",
    "\n",
    "# Fetch all the table names\n",
    "table_names = cur.fetchall()\n",
    "\n",
    "# Print the table names\n",
    "for table_name in table_names:\n",
    "    print(table_name[0])"
   ]
  }
 ],
 "metadata": {
  "kernelspec": {
   "display_name": "Python 3 (ipykernel)",
   "language": "python",
   "name": "python3"
  },
  "language_info": {
   "codemirror_mode": {
    "name": "ipython",
    "version": 3
   },
   "file_extension": ".py",
   "mimetype": "text/x-python",
   "name": "python",
   "nbconvert_exporter": "python",
   "pygments_lexer": "ipython3",
   "version": "3.11.4"
  }
 },
 "nbformat": 4,
 "nbformat_minor": 5
}
